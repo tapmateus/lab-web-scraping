{
 "cells": [
  {
   "cell_type": "code",
   "execution_count": 1,
   "id": "79fb1672",
   "metadata": {},
   "outputs": [
    {
     "name": "stdout",
     "output_type": "stream",
     "text": [
      "how many pages you want?2\n"
     ]
    },
    {
     "ename": "NameError",
     "evalue": "name 'title_type' is not defined",
     "output_type": "error",
     "traceback": [
      "\u001b[0;31m---------------------------------------------------------------------------\u001b[0m",
      "\u001b[0;31mNameError\u001b[0m                                 Traceback (most recent call last)",
      "Cell \u001b[0;32mIn[1], line 58\u001b[0m\n\u001b[1;32m     55\u001b[0m         index \u001b[38;5;241m+\u001b[39m\u001b[38;5;241m=\u001b[39m \u001b[38;5;241m1\u001b[39m\n\u001b[1;32m     57\u001b[0m     \u001b[38;5;28;01mreturn\u001b[39;00m pd\u001b[38;5;241m.\u001b[39mDataFrame\u001b[38;5;241m.\u001b[39mfrom_dict(film_dict, orient\u001b[38;5;241m=\u001b[39m\u001b[38;5;124m'\u001b[39m\u001b[38;5;124mindex\u001b[39m\u001b[38;5;124m'\u001b[39m)\n\u001b[0;32m---> 58\u001b[0m scrap_imdb(\u001b[43mtitle_type\u001b[49m, end_date, start_date, user_rating)\n",
      "\u001b[0;31mNameError\u001b[0m: name 'title_type' is not defined"
     ]
    }
   ],
   "source": [
    "import pandas as pd\n",
    "from bs4 import BeautifulSoup\n",
    "import requests\n",
    "\n",
    "#def scrap_imdb(title_type, end_date, start_date, user_rating)\n",
    "\n",
    "film_dict = {}\n",
    "urls = []\n",
    "n_pages = int(input(\"how many pages you want?\"))\n",
    "\n",
    "for i in range(1,n_pages+1):\n",
    "  n_pages = 1 + 50*(i-1)\n",
    "  url = f\"https://www.imdb.com/search/title/?title_type=feature&release_date=1990-01-01,1992-31-12&user_rating=7.5,&start={n_pages}&ref_=adv_nxt\"\n",
    "  urls.append(url)\n",
    "\n",
    "def scrap_imdb(title_type, end_date, start_date, user_rating):\n",
    "    for url in urls:\n",
    "        url = f\"https://www.imdb.com/search/title/?title_type={title_type}&release_date={start_date},{end_date}&user_rating={user_rating},,&start=1&ref_=adv_nxt\"\n",
    "        response = requests.get(url)\n",
    "    \n",
    "    soup = BeautifulSoup(response.content)\n",
    "    index = 0\n",
    "    films = soup.find_all('div', attrs = 'lister-item mode-advanced')\n",
    "    \n",
    "    for film in films:\n",
    "        film_header = film.find_all('h3', attrs = {'class':'lister-item-header'})\n",
    "        for item in film_header:\n",
    "        \n",
    "            #getting position name year\n",
    "            film_position = item.find_all('span', attrs = {'class':'lister-item-index unbold text-primary'})[0].get_text().strip()\n",
    "            film_title = item.find_all('a')[0].get_text().strip()\n",
    "            film_year = item.find_all('span', attrs = {'class':'lister-item-year text-muted unbold'})[0].get_text().strip()\n",
    "    \n",
    "        #getting rthe remaining data\n",
    "        film_genre = film.find_all('span', attrs = {'class':'genre'})[0].get_text().strip()\n",
    "        film_duration = film.find_all('span', attrs = {'class':'runtime'})[0].get_text().strip()\n",
    "        film_rating = film.find_all('div', attrs = {'class':'inline-block ratings-imdb-rating'})[0].get_text().strip()\n",
    "        film_description = film.find_all('p', attrs = {'class':'text-muted'})[1].get_text().strip()\n",
    "    \n",
    "        film_director_stars = film.find_all('p')[2]\n",
    "        film_director = film_director_stars.find_all('a')[0].get_text().strip()\n",
    "        film_actors = \",\".join([actor.get_text().strip() for actor in film_director_stars.find_all('a')[1:]])\n",
    "\n",
    "    \n",
    "        film_dict[index] = {'ranking':film_position,\n",
    "                       'title':film_title,\n",
    "                       'year':film_year,\n",
    "                       'genre':film_genre,\n",
    "                       'duration':film_duration,\n",
    "                       'rating':film_rating,\n",
    "                       'description':film_description,\n",
    "                       'director':film_director,\n",
    "                       'stars':film_actors}\n",
    "\n",
    "        index += 1\n",
    "\n",
    "    return pd.DataFrame.from_dict(film_dict, orient='index')\n",
    "scrap_imdb(title_type='feature', end_date='1990-01-01', start_date='1992-12-31', user_rating=)"
   ]
  },
  {
   "cell_type": "code",
   "execution_count": null,
   "id": "106cf477",
   "metadata": {},
   "outputs": [],
   "source": [
    "n_pages = int(input(\"how many pages you want?\"))\n",
    "\n",
    "for i in range(1,n_pages+1):\n",
    "  n_pages = 1 + 50*(i-1)\n",
    "  url = f\"https://www.imdb.com/search/title/?title_type=feature&release_date=1990-01-01,1992-31-12&user_rating=7.5,&start={n_pages}&ref_=adv_nxt\"\n",
    "  print(url)"
   ]
  },
  {
   "cell_type": "code",
   "execution_count": null,
   "id": "768c351f",
   "metadata": {},
   "outputs": [],
   "source": []
  }
 ],
 "metadata": {
  "kernelspec": {
   "display_name": "Python 3 (ipykernel)",
   "language": "python",
   "name": "python3"
  },
  "language_info": {
   "codemirror_mode": {
    "name": "ipython",
    "version": 3
   },
   "file_extension": ".py",
   "mimetype": "text/x-python",
   "name": "python",
   "nbconvert_exporter": "python",
   "pygments_lexer": "ipython3",
   "version": "3.10.9"
  }
 },
 "nbformat": 4,
 "nbformat_minor": 5
}
